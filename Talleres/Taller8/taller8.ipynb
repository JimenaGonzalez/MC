{
 "cells": [
  {
   "cell_type": "code",
   "execution_count": 67,
   "metadata": {
    "collapsed": true
   },
   "outputs": [],
   "source": [
    "import numpy as np\n",
    "import matplotlib as mpl\n",
    "import matplotlib.pyplot as plt\n",
    "import os\n",
    "%matplotlib inline"
   ]
  },
  {
   "cell_type": "code",
   "execution_count": 68,
   "metadata": {
    "collapsed": false
   },
   "outputs": [
    {
     "name": "stdout",
     "output_type": "stream",
     "text": [
      "r= 0.53125\n"
     ]
    }
   ],
   "source": [
    "Nt=2000\n",
    "Nl=50\n",
    "L=10. # Lado del cubo\n",
    "tmin=0\n",
    "tmax=0.5\n",
    "xmin=-L/2\n",
    "xmax=L/2\n",
    "ymin=-L/2\n",
    "ymax=L/2\n",
    "dt=(tmax-tmin)/Nt\n",
    "dx=(xmax-xmin)/Nl\n",
    "dy=(ymax-ymin)/Nl\n",
    "v=425. # m/s\n",
    "r=v*dt/dx\n",
    "print \"r=\",r"
   ]
  },
  {
   "cell_type": "code",
   "execution_count": 69,
   "metadata": {
    "collapsed": false
   },
   "outputs": [
    {
     "data": {
      "image/png": "[encoded data removed]",
      "text/plain": [
       "<matplotlib.figure.Figure at 0x752e490>"
      ]
     },
     "metadata": {},
     "output_type": "display_data"
    }
   ],
   "source": [
    "xcoords=np.linspace(xmin,xmax,Nl)\n",
    "ycoords=np.linspace(ymin,ymax,Nl)\n",
    "xmesh,ymesh=np.meshgrid(xcoords,ycoords)\n",
    "tcoords=np.linspace(tmin,tmax,Nt)\n",
    "#res= 1./np.sqrt(2*np.pi)*np.exp(-np.linspace(xmin,xmax,N)**2/2 - np.linspace(ymin,ymax,N)**2/2)\n",
    "drum=np.zeros((Nt,Nl,Nl))\n",
    "drum[0]=np.exp(-xmesh**2 - ymesh**2)\n",
    "drum[1]=drum[0]+r**2/2.*(np.roll(drum[0],1,axis=0)+np.roll(drum[0],-1,axis=0)+np.roll(drum[0],1,axis=1)+np.roll(drum[0],-1,axis=1)-4*drum[0])\n",
    "plt.figure(figsize=(5,5))\n",
    "#plt.imshow(res,cmap='gist_heat')\n",
    "plt.pcolormesh(xmesh,ymesh,drum[0],cmap='gist_heat')\n",
    "plt.xlim(-5,5)\n",
    "plt.ylim(-5,5)\n",
    "plt.show()"
   ]
  },
  {
   "cell_type": "code",
   "execution_count": 70,
   "metadata": {
    "collapsed": false
   },
   "outputs": [],
   "source": [
    "#creo los lados tapas=lado1,  centro lados2, otro lados3\n",
    "lado1= np.zeros((Nt,Nl,Nl))\n",
    "lado2= drum\n",
    "lado3= np.zeros((Nt,Nl,Nl))"
   ]
  },
  {
   "cell_type": "code",
   "execution_count": 75,
   "metadata": {
    "collapsed": true
   },
   "outputs": [],
   "source": [
    "#actualizar 2:\n",
    "def acta(i):\n",
    "    #primera columna vecino izq\n",
    "    aizq=np.zeros((Nt,Nl,3))\n",
    "    for j in range(Nl):\n",
    "        aizq[i,j,0]=lado3[i,0,j]\n",
    "        aizq[i,j,2]=lado2[i,1,j]\n",
    "    for j in range(Nl):\n",
    "        paizq=aizq[i-1]\n",
    "        ppaizq=aizq[i-2]\n",
    "        aizq[i,j,1]=2*(1.-2.*r**2)*paizq-ppaizq+r**2*(np.roll(aizq,1,axis=0)+np.roll(aizq,-1,axis=0))\n",
    "    print aizq"
   ]
  },
  {
   "cell_type": "code",
   "execution_count": 76,
   "metadata": {
    "collapsed": false
   },
   "outputs": [
    {
     "ename": "ValueError",
     "evalue": "setting an array element with a sequence.",
     "output_type": "error",
     "traceback": [
      "\u001b[1;31m---------------------------------------------------------------------------\u001b[0m",
      "\u001b[1;31mValueError\u001b[0m                                Traceback (most recent call last)",
      "\u001b[1;32m<ipython-input-76-781a55b79078>\u001b[0m in \u001b[0;36m<module>\u001b[1;34m()\u001b[0m\n\u001b[1;32m----> 1\u001b[1;33m \u001b[0macta\u001b[0m\u001b[1;33m(\u001b[0m\u001b[1;36m3\u001b[0m\u001b[1;33m)\u001b[0m\u001b[1;33m\u001b[0m\u001b[0m\n\u001b[0m",
      "\u001b[1;32m<ipython-input-75-bd954df777a9>\u001b[0m in \u001b[0;36macta\u001b[1;34m(i)\u001b[0m\n\u001b[0;32m      9\u001b[0m         \u001b[0mpaizq\u001b[0m\u001b[1;33m=\u001b[0m\u001b[0maizq\u001b[0m\u001b[1;33m[\u001b[0m\u001b[0mi\u001b[0m\u001b[1;33m-\u001b[0m\u001b[1;36m1\u001b[0m\u001b[1;33m]\u001b[0m\u001b[1;33m\u001b[0m\u001b[0m\n\u001b[0;32m     10\u001b[0m         \u001b[0mppaizq\u001b[0m\u001b[1;33m=\u001b[0m\u001b[0maizq\u001b[0m\u001b[1;33m[\u001b[0m\u001b[0mi\u001b[0m\u001b[1;33m-\u001b[0m\u001b[1;36m2\u001b[0m\u001b[1;33m]\u001b[0m\u001b[1;33m\u001b[0m\u001b[0m\n\u001b[1;32m---> 11\u001b[1;33m         \u001b[0maizq\u001b[0m\u001b[1;33m[\u001b[0m\u001b[0mi\u001b[0m\u001b[1;33m,\u001b[0m\u001b[0mj\u001b[0m\u001b[1;33m,\u001b[0m\u001b[1;36m1\u001b[0m\u001b[1;33m]\u001b[0m\u001b[1;33m=\u001b[0m\u001b[1;36m2\u001b[0m\u001b[1;33m*\u001b[0m\u001b[1;33m(\u001b[0m\u001b[1;36m1.\u001b[0m\u001b[1;33m-\u001b[0m\u001b[1;36m2.\u001b[0m\u001b[1;33m*\u001b[0m\u001b[0mr\u001b[0m\u001b[1;33m**\u001b[0m\u001b[1;36m2\u001b[0m\u001b[1;33m)\u001b[0m\u001b[1;33m*\u001b[0m\u001b[0mpaizq\u001b[0m\u001b[1;33m-\u001b[0m\u001b[0mppaizq\u001b[0m\u001b[1;33m+\u001b[0m\u001b[0mr\u001b[0m\u001b[1;33m**\u001b[0m\u001b[1;36m2\u001b[0m\u001b[1;33m*\u001b[0m\u001b[1;33m(\u001b[0m\u001b[0mnp\u001b[0m\u001b[1;33m.\u001b[0m\u001b[0mroll\u001b[0m\u001b[1;33m(\u001b[0m\u001b[0maizq\u001b[0m\u001b[1;33m,\u001b[0m\u001b[1;36m1\u001b[0m\u001b[1;33m,\u001b[0m\u001b[0maxis\u001b[0m\u001b[1;33m=\u001b[0m\u001b[1;36m0\u001b[0m\u001b[1;33m)\u001b[0m\u001b[1;33m+\u001b[0m\u001b[0mnp\u001b[0m\u001b[1;33m.\u001b[0m\u001b[0mroll\u001b[0m\u001b[1;33m(\u001b[0m\u001b[0maizq\u001b[0m\u001b[1;33m,\u001b[0m\u001b[1;33m-\u001b[0m\u001b[1;36m1\u001b[0m\u001b[1;33m,\u001b[0m\u001b[0maxis\u001b[0m\u001b[1;33m=\u001b[0m\u001b[1;36m0\u001b[0m\u001b[1;33m)\u001b[0m\u001b[1;33m)\u001b[0m\u001b[1;33m\u001b[0m\u001b[0m\n\u001b[0m\u001b[0;32m     12\u001b[0m     \u001b[1;32mprint\u001b[0m \u001b[0maizq\u001b[0m\u001b[1;33m\u001b[0m\u001b[0m\n",
      "\u001b[1;31mValueError\u001b[0m: setting an array element with a sequence."
     ]
    }
   ],
   "source": [
    "acta(3)"
   ]
  },
  {
   "cell_type": "code",
   "execution_count": 49,
   "metadata": {
    "collapsed": false
   },
   "outputs": [],
   "source": [
    "for i in range(2,Nt):    \n",
    "    plado1=lado1[i-1]\n",
    "    pplado1=lado1[i-2]\n",
    "    lado1[i]=2*(1.-2.*r**2)*plado1-pplado1+r**2*(np.roll(plado1,1,axis=1)+np.roll(plado1,-1,axis=1)+np.roll(plado1,1,axis=0)+np.roll(plado1,-1,axis=0))\n",
    "    plado2=lado2[i-1]\n",
    "    pplado2=lado2[i-2]\n",
    "    lado2[i]=2*(1.-2.*r**2)*plado2-pplado2+r**2*(np.roll(plado2,1,axis=1)+np.roll(plado2,-1,axis=1)+np.roll(plado2,1,axis=0)+np.roll(plado2,-1,axis=0))\n",
    "    plado3=lado3[i-1]\n",
    "    pplado3=lado3[i-2]\n",
    "    lado3[i]=2*(1.-2.*r**2)*plado3-pplado3+r**2*(np.roll(plado3,1,axis=1)+np.roll(plado3,-1,axis=1)+np.roll(plado3,1,axis=0)+np.roll(plado3,-1,axis=0))\n",
    "    "
   ]
  },
  {
   "cell_type": "code",
   "execution_count": null,
   "metadata": {
    "collapsed": true
   },
   "outputs": [],
   "source": []
  }
 ],
 "metadata": {
  "kernelspec": {
   "display_name": "Python 2",
   "language": "python",
   "name": "python2"
  },
  "language_info": {
   "codemirror_mode": {
    "name": "ipython",
    "version": 2
   },
   "file_extension": ".py",
   "mimetype": "text/x-python",
   "name": "python",
   "nbconvert_exporter": "python",
   "pygments_lexer": "ipython2",
   "version": "2.7.6"
  }
 },
 "nbformat": 4,
 "nbformat_minor": 0
}
